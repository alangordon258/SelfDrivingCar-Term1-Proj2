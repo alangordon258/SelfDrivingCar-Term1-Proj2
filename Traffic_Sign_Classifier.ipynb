{
 "cells": [
  {
   "cell_type": "markdown",
   "metadata": {},
   "source": [
    "# Self-Driving Car Engineer Nanodegree\n",
    "\n",
    "## Deep Learning\n",
    "\n",
    "## Project: Build a Traffic Sign Recognition Classifier\n",
    "\n",
    "In this notebook, a template is provided for you to implement your functionality in stages, which is required to successfully complete this project. If additional code is required that cannot be included in the notebook, be sure that the Python code is successfully imported and included in your submission if necessary. \n",
    "\n",
    "> **Note**: Once you have completed all of the code implementations, you need to finalize your work by exporting the iPython Notebook as an HTML document. Before exporting the notebook to html, all of the code cells need to have been run so that reviewers can see the final implementation and output. You can then export the notebook by using the menu above and navigating to  \\n\",\n",
    "    \"**File -> Download as -> HTML (.html)**. Include the finished document along with this notebook as your submission. \n",
    "\n",
    "In addition to implementing code, there is a writeup to complete. The writeup should be completed in a separate file, which can be either a markdown file or a pdf document. There is a [write up template](https://github.com/udacity/CarND-Traffic-Sign-Classifier-Project/blob/master/writeup_template.md) that can be used to guide the writing process. Completing the code template and writeup template will cover all of the [rubric points](https://review.udacity.com/#!/rubrics/481/view) for this project.\n",
    "\n",
    "The [rubric](https://review.udacity.com/#!/rubrics/481/view) contains \"Stand Out Suggestions\" for enhancing the project beyond the minimum requirements. The stand out suggestions are optional. If you decide to pursue the \"stand out suggestions\", you can include the code in this Ipython notebook and also discuss the results in the writeup file.\n",
    "\n",
    "\n",
    ">**Note:** Code and Markdown cells can be executed using the **Shift + Enter** keyboard shortcut. In addition, Markdown cells can be edited by typically double-clicking the cell to enter edit mode."
   ]
  },
  {
   "cell_type": "markdown",
   "metadata": {},
   "source": [
    "---\n",
    "## Step 0: Load The Data"
   ]
  },
  {
   "cell_type": "code",
   "execution_count": null,
   "metadata": {
    "collapsed": true
   },
   "outputs": [],
   "source": [
    "# Load the pickled data\n",
    "import pickle\n",
    "\n",
    "training_file = \"./data/train.p\"\n",
    "validation_file=\"./data/valid.p\"\n",
    "testing_file = \"./data/test.p\"\n",
    "\n",
    "with open(training_file, mode='rb') as f:\n",
    "    train = pickle.load(f)\n",
    "with open(validation_file, mode='rb') as f:\n",
    "    valid = pickle.load(f)\n",
    "with open(testing_file, mode='rb') as f:\n",
    "    test = pickle.load(f)\n",
    "    \n",
    "X_train_initial, y_train_initial = train['features'], train['labels']\n",
    "X_valid_initial, y_valid = valid['features'], valid['labels']\n",
    "X_test_initial, y_test = test['features'], test['labels']\n"
   ]
  },
  {
   "cell_type": "markdown",
   "metadata": {},
   "source": [
    "---\n",
    "\n",
    "## Step 1: Dataset Summary & Exploration\n",
    "\n",
    "The pickled data is a dictionary with 4 key/value pairs:\n",
    "\n",
    "- `'features'` is a 4D array containing raw pixel data of the traffic sign images, (num examples, width, height, channels).\n",
    "- `'labels'` is a 1D array containing the label/class id of the traffic sign. The file `signnames.csv` contains id -> name mappings for each id.\n",
    "- `'sizes'` is a list containing tuples, (width, height) representing the original width and height the image.\n",
    "- `'coords'` is a list containing tuples, (x1, y1, x2, y2) representing coordinates of a bounding box around the sign in the image. **THESE COORDINATES ASSUME THE ORIGINAL IMAGE. THE PICKLED DATA CONTAINS RESIZED VERSIONS (32 by 32) OF THESE IMAGES**\n",
    "\n",
    "Complete the basic data summary below. Use python, numpy and/or pandas methods to calculate the data summary rather than hard coding the results. For example, the [pandas shape method](http://pandas.pydata.org/pandas-docs/stable/generated/pandas.DataFrame.shape.html) might be useful for calculating some of the summary results. "
   ]
  },
  {
   "cell_type": "markdown",
   "metadata": {},
   "source": [
    "### Provide a Basic Summary of the Data Set Using Python, Numpy and/or Pandas"
   ]
  },
  {
   "cell_type": "code",
   "execution_count": null,
   "metadata": {},
   "outputs": [],
   "source": [
    "import numpy as np\n",
    "\n",
    "# Determine the number of training examples\n",
    "\n",
    "assert(len(X_train_initial) == len(y_train_initial))\n",
    "n_train = len(X_train_initial)\n",
    "\n",
    "# Determine the number of validation examples\n",
    "assert(len(X_valid_initial) == len(y_valid))\n",
    "n_validation = len(X_valid_initial)\n",
    "\n",
    "# Determine the number of testing examples.\n",
    "assert(len(X_test_initial) == len(y_test))\n",
    "n_test = len(X_test_initial)\n",
    "\n",
    "# Determine the shape of an traffic sign image?\n",
    "image_shape = X_train_initial[0].shape\n",
    "\n",
    "# Determine now many unique classes/labels there are in the dataset.\n",
    "n_classes = len(np.unique(y_train_initial))\n",
    "\n",
    "print(\"Number of training samples =\", n_train)\n",
    "print(\"Number of validation samples =\", n_validation)\n",
    "print(\"Number of testing samples =\", n_test)\n",
    "print(\"Image data shape =\", image_shape)\n",
    "print(\"Number of classes =\", n_classes)"
   ]
  },
  {
   "cell_type": "markdown",
   "metadata": {},
   "source": [
    "### Include an exploratory visualization of the dataset"
   ]
  },
  {
   "cell_type": "markdown",
   "metadata": {},
   "source": [
    "Visualize the German Traffic Signs Dataset using the pickled file(s). This is open ended, suggestions include: plotting traffic sign images, plotting the count of each sign, etc. \n",
    "\n",
    "The [Matplotlib](http://matplotlib.org/) [examples](http://matplotlib.org/examples/index.html) and [gallery](http://matplotlib.org/gallery.html) pages are a great resource for doing visualizations in Python.\n",
    "\n",
    "**NOTE:** It's recommended you start with something simple first. If you wish to do more, come back to it after you've completed the rest of the sections. It can be interesting to look at the distribution of classes in the training, validation and test set. Is the distribution the same? Are there more examples of some classes than others?"
   ]
  },
  {
   "cell_type": "code",
   "execution_count": null,
   "metadata": {},
   "outputs": [],
   "source": [
    "### Data exploration visualization code goes here.\n",
    "### Feel free to use as many code cells as needed.\n",
    "import matplotlib.pyplot as plt\n",
    "import pandas as pd\n",
    "import random\n",
    "sign_names = pd.read_csv(\"signnames.csv\").values[:,1]\n",
    "\n",
    "# Visualizations will be shown in the notebook.\n",
    "%matplotlib inline\n",
    "\n",
    "fig = plt.figure(figsize=(32,32))\n",
    "for i in range(n_classes):\n",
    "    k = np.where(y_train_initial==i)\n",
    "    indx=random.randint(0, (len(k[0]-1)))\n",
    "    img = X_train_initial[k[0][indx]]\n",
    "    subfig = fig.add_subplot(int(n_classes/5)+1,5,i+1) \n",
    "    subfig.imshow(img)\n",
    "    subfig.set_title(\"{}: {}\".format(i,sign_names[i]))\n",
    "fig.tight_layout()\n",
    "fig.show()\n",
    "\n",
    "def showdatabarchart(y_data,title):\n",
    "    sign_types, test_counts=np.unique(y_data,return_counts=True)\n",
    "    fig=plt.figure(figsize=(20,10))\n",
    "    plt.barh( np.arange( n_classes ), test_counts, align='center')\n",
    "    plt.title(title)\n",
    "    plt.ylabel('Class')\n",
    "    plt.yticks(np.arange(len(sign_names)), sign_names)\n",
    "    plt.xlabel('Number of Samples')\n",
    "    plt.show()\n",
    "    return fig\n",
    "\n",
    "fig=showdatabarchart(y_train_initial,\"Training Data\")\n",
    "fig.savefig('./visualizations/TrainingData.jpg')\n",
    "fig=showdatabarchart(y_valid,\"Validation Data\")\n",
    "fig.savefig('./visualizations/ValidationData.jpg')\n",
    "fig=showdatabarchart(y_test,\"Test Data\")\n",
    "fig.savefig('./visualizations/TestData.jpg')"
   ]
  },
  {
   "cell_type": "markdown",
   "metadata": {},
   "source": [
    "### Augment Data\n",
    "From reading several papers on the subject it was clear that data augmentation is a common way to increase accuracy. The cell below reads the initially loaded training data and doubles the size of it by apply random: shifts, rotations, shears, and zooms using the Keras image data generator."
   ]
  },
  {
   "cell_type": "code",
   "execution_count": null,
   "metadata": {},
   "outputs": [],
   "source": [
    "import tensorflow as tf\n",
    "import matplotlib.pyplot as plt\n",
    "# Visualizations will be shown in the notebook.\n",
    "%matplotlib inline\n",
    "from keras.preprocessing.image import ImageDataGenerator, array_to_img, img_to_array, load_img\n",
    "datagen = ImageDataGenerator(\n",
    "        rotation_range=15,\n",
    "        width_shift_range=0.1,\n",
    "        height_shift_range=0.1,\n",
    "        shear_range=0.2,\n",
    "        zoom_range=0.2,\n",
    "        horizontal_flip=False,\n",
    "        dim_ordering='tf',\n",
    "        fill_mode='nearest')\n",
    "for X_batch, y_batch in datagen.flow(X_train_initial, y_train_initial, batch_size=X_train_initial.shape[0], shuffle=False):\n",
    "    X_train_augmented = X_batch.astype('uint8')\n",
    "    y_train_augmented = y_batch\n",
    "    break\n",
    "    \n",
    "X_train_after_augmentation = np.concatenate((X_train_initial, X_train_augmented), axis=0)\n",
    "y_train_after_augmentation = np.concatenate((y_train_initial, y_train_augmented), axis=0)\n",
    "\n",
    "assert(len(X_train_after_augmentation) == len(y_train_after_augmentation))\n",
    "# reset n_train\n",
    "n_train_before_augmentation=len(X_train_initial)\n",
    "n_train = len(X_train_after_augmentation)\n",
    "\n",
    "index = random.randint(0, (len(X_train_after_augmentation)/2-1))\n",
    "\n",
    "def showgeneratedimage(index):\n",
    "    image1 = X_train_after_augmentation[index]\n",
    "    image2 = X_train_after_augmentation[index+n_train_before_augmentation]\n",
    "    plt.figure(figsize=(1,1))\n",
    "    plt.imshow(image1)\n",
    "    plt.figure(figsize=(1,1))\n",
    "    plt.imshow(image2)\n",
    "\n",
    "# Show a few images and their randomly generated equivalents    \n",
    "num_images_to_show=4\n",
    "fig = plt.figure(figsize=(12,8))\n",
    "for i in range(num_images_to_show):\n",
    "    index = random.randint(0, len(X_train_after_augmentation)/2)\n",
    "    orig_img=X_train_after_augmentation[index];\n",
    "    processed_img=X_train_after_augmentation[index+n_train_before_augmentation]\n",
    "    ax = fig.add_subplot(num_images_to_show,2,2*i+1) \n",
    "    ax.imshow(orig_img)\n",
    "    ax.set_title(\"Image at Index:{} (Before)\".format(index))\n",
    "    ax = fig.add_subplot(num_images_to_show,2,2*i+2) \n",
    "    ax.imshow(processed_img)\n",
    "    ax.set_title(\"Image at Index:{} (After)\".format(index))\n",
    "fig.tight_layout()\n",
    "fig.savefig('./visualizations/AugmentedData.jpg')"
   ]
  },
  {
   "cell_type": "markdown",
   "metadata": {},
   "source": [
    "----\n",
    "\n",
    "## Step 2: Design and Test a Model Architecture\n",
    "\n",
    "Design and implement a deep learning model that learns to recognize traffic signs. Train and test your model on the [German Traffic Sign Dataset](http://benchmark.ini.rub.de/?section=gtsrb&subsection=dataset).\n",
    "\n",
    "The LeNet-5 implementation shown in the [classroom](https://classroom.udacity.com/nanodegrees/nd013/parts/fbf77062-5703-404e-b60c-95b78b2f3f9e/modules/6df7ae49-c61c-4bb2-a23e-6527e69209ec/lessons/601ae704-1035-4287-8b11-e2c2716217ad/concepts/d4aca031-508f-4e0b-b493-e7b706120f81) at the end of the CNN lesson is a solid starting point. You'll have to change the number of classes and possibly the preprocessing, but aside from that it's plug and play! \n",
    "\n",
    "With the LeNet-5 solution from the lecture, you should expect a validation set accuracy of about 0.89. To meet specifications, the validation set accuracy will need to be at least 0.93. It is possible to get an even higher accuracy, but 0.93 is the minimum for a successful project submission. \n",
    "\n",
    "There are various aspects to consider when thinking about this problem:\n",
    "\n",
    "- Neural network architecture (is the network over or underfitting?)\n",
    "- Play around preprocessing techniques (normalization, rgb to grayscale, etc)\n",
    "- Number of examples per label (some have more than others).\n",
    "- Generate fake data.\n",
    "\n",
    "Here is an example of a [published baseline model on this problem](http://yann.lecun.com/exdb/publis/pdf/sermanet-ijcnn-11.pdf). It's not required to be familiar with the approach used in the paper but, it's good practice to try to read papers like these."
   ]
  },
  {
   "cell_type": "markdown",
   "metadata": {},
   "source": [
    "### Pre-process the Data Set (normalization, grayscale, etc.)"
   ]
  },
  {
   "cell_type": "markdown",
   "metadata": {},
   "source": [
    "I preprocessed the images as follows: \n",
    "(1) Convert to grayscale. Accuracy was a 2 or 3 percent higher with grayscale and ran faster also because there is only a single channel. I assume the acuracy was higher because shape and other factors were more distinct than color between the sign types and eliminating color allowed the network to focus on these other factors.\n",
    "(2) Improve the contract by calling equalizeHist\n",
    "(3) Normalized the images using (x-avg)/stddev"
   ]
  },
  {
   "cell_type": "code",
   "execution_count": null,
   "metadata": {},
   "outputs": [],
   "source": [
    "### Preprocess the data here. It is required to normalize the data. Other preprocessing steps could include \n",
    "### converting to grayscale, etc.\n",
    "### Feel free to use as many code cells as needed.\n",
    "import cv2\n",
    "from sklearn.utils import shuffle\n",
    "X_train_after_augmentation, y_train = shuffle(X_train_after_augmentation, y_train_after_augmentation)\n",
    "\n",
    "def initializegrayscaleimagearrayfromRGB(arrayRGB):\n",
    "    data_shape=arrayRGB.shape\n",
    "    data_shape2=(data_shape[0],data_shape[1],data_shape[2],1)\n",
    "    return np.empty(shape=data_shape2)\n",
    "\n",
    "def normalizeimages(imgs):\n",
    "    imgs=imgs.astype('float32')    \n",
    "    avg=np.mean(imgs) \n",
    "    sigma=np.std(imgs)\n",
    "    imgs=(imgs-avg)/sigma\n",
    "    return imgs\n",
    "\n",
    "def preprocessimages(rgbimages):\n",
    "    grayscaleimages=initializegrayscaleimagearrayfromRGB(rgbimages)\n",
    "    nimages=len(rgbimages)\n",
    "    for i in range(nimages):\n",
    "        img=cv2.cvtColor(rgbimages[i], cv2.COLOR_RGB2GRAY)\n",
    "        img=cv2.equalizeHist(img)\n",
    "        grayscaleimages[i]=img.reshape(32,32,1)\n",
    "    return normalizeimages(grayscaleimages)\n",
    "\n",
    "X_train=preprocessimages(X_train_after_augmentation)\n",
    "X_valid=preprocessimages(X_valid_initial)\n",
    "X_test=preprocessimages(X_test_initial)\n",
    "\n",
    "num_images_to_show=4\n",
    "fig = plt.figure(figsize=(9,6))\n",
    "for i in range(num_images_to_show):\n",
    "    index = random.randint(0, n_train-1)\n",
    "    if index==n_train :\n",
    "        index-=1\n",
    "    orig_img=X_train_after_augmentation[index]\n",
    "    processed_img=X_train[index]\n",
    "    ax = fig.add_subplot(num_images_to_show,2,2*i+1) \n",
    "    ax.imshow(orig_img)\n",
    "    ax.set_title(\"Image at Index:{} (Before)\".format(index))\n",
    "    ax = fig.add_subplot(num_images_to_show,2,2*i+2)\n",
    "    ax.imshow(processed_img.squeeze(),cmap=\"gray\")\n",
    "    ax.set_title(\"Image at Index:{} (After)\".format(index))\n",
    "fig.tight_layout()\n",
    "fig.savefig('./visualizations/ProcessedData.jpg')"
   ]
  },
  {
   "cell_type": "markdown",
   "metadata": {},
   "source": [
    "### Model Architecture"
   ]
  },
  {
   "cell_type": "code",
   "execution_count": null,
   "metadata": {
    "collapsed": true
   },
   "outputs": [],
   "source": [
    "### Define your architecture here.\n",
    "### Feel free to use as many code cells as needed.\n",
    "import tensorflow as tf\n",
    "\n",
    "EPOCHS = 80\n",
    "BATCH_SIZE = 128"
   ]
  },
  {
   "cell_type": "code",
   "execution_count": null,
   "metadata": {
    "collapsed": true
   },
   "outputs": [],
   "source": [
    "from tensorflow.contrib.layers import flatten\n",
    "def LeNet(x):    \n",
    "    # Arguments used for tf.truncated_normal, randomly defines variables for the weights and biases for each layer\n",
    "    mu = 0\n",
    "    sigma = 0.1\n",
    "    weights = {\n",
    "    'layer1': tf.Variable(tf.random_normal([5, 5, 1, 32],mean = mu, stddev = sigma)),\n",
    "    'layer2': tf.Variable(tf.random_normal([5, 5, 32, 64],mean = mu, stddev = sigma)),\n",
    "    'layer3': tf.Variable(tf.random_normal([1600, 120],mean = mu, stddev = sigma)),\n",
    "    'layer4': tf.Variable(tf.random_normal([120, 84],mean = mu, stddev = sigma)),\n",
    "    'layer5': tf.Variable(tf.random_normal([84, 43],mean = mu, stddev = sigma))}\n",
    "\n",
    "    biases = {\n",
    "    'layer1': tf.Variable(tf.zeros(32)),\n",
    "    'layer2': tf.Variable(tf.zeros(64)),\n",
    "    'layer3': tf.Variable(tf.zeros(120)),\n",
    "    'layer4': tf.Variable(tf.zeros(84)),\n",
    "    'layer5': tf.Variable(tf.zeros(43))}\n",
    "    \n",
    "    # TODO: Layer 1: Convolutional. Input = 32x32x1. Output = 28x28x32.\n",
    "    l1output=tf.nn.conv2d(x,weights['layer1'],strides=[1,1,1,1],padding='VALID')\n",
    "    l1output = tf.nn.bias_add(l1output, biases['layer1'])\n",
    "#    print(\"l1output={}\".format(l1output.get_shape()))\n",
    "    # TODO: Activation.\n",
    "    l1output=tf.nn.relu(l1output)\n",
    "\n",
    "    # TODO: Pooling. Input = 28x28x32. Output = 14x14x32.\n",
    "    l1output = tf.nn.max_pool(\n",
    "    l1output,\n",
    "    ksize=[1, 2, 2, 1],\n",
    "    strides=[1, 2, 2, 1],\n",
    "    padding='VALID')\n",
    "#    print(\"l1output second={}\".format(l1output.get_shape()))\n",
    "\n",
    "    # TODO: Layer 2: Convolutional. Output = 10x10x64.\n",
    "    l2output=tf.nn.conv2d(l1output,weights['layer2'],strides=[1,1,1,1],padding='VALID')\n",
    "    l2output = tf.nn.bias_add(l2output, biases['layer2'])\n",
    "    # TODO: Activation.\n",
    "    l2output=tf.nn.relu(l2output)\n",
    "#    print(\"l2output first={}\".format(l2output.get_shape()))\n",
    "    # TODO: Pooling. Input = 10x10x64. Output = 5x5x64.\n",
    "    l2output = tf.nn.max_pool(\n",
    "    l2output,\n",
    "    ksize=[1, 2, 2, 1],\n",
    "    strides=[1, 2, 2, 1],\n",
    "    padding='VALID')\n",
    "#    print(\"l2output second={}\".format(l2output.get_shape()))\n",
    "    # TODO: Flatten. Input = 5x5x64. Output = 1600.\n",
    "# I tried using an architecture where the output of two convolutional layers are fed\n",
    "# into the first fully-connected layer, but it did not improve accuracy for me\n",
    "#    conv_output=tf.concat(1,[flatten(l2output),flatten(l1output)])\n",
    "    conv_output=flatten(l2output)\n",
    "    # TODO: Layer 3: Fully Connected. Input = 1600. Output = 120.\n",
    "    l3output   = tf.add(tf.matmul(conv_output, weights['layer3']),biases['layer3'])\n",
    "    # TODO: Activation.\n",
    "    l3output=tf.nn.relu(l3output)\n",
    "    l3output = tf.nn.dropout(l3output, keep_prob)\n",
    "    # TODO: Layer 4: Fully Connected. Input = 120. Output = 84.\n",
    "    l4output   = tf.add(tf.matmul(l3output, weights['layer4']),biases['layer4'])\n",
    "    # TODO: Activation.\n",
    "    l4output=tf.nn.relu(l4output)\n",
    "    l4output = tf.nn.dropout(l4output, keep_prob)\n",
    "    # TODO: Layer 5: Fully Connected. Input = 84. Output = 43.\n",
    "    logits   = tf.add(tf.matmul(l4output, weights['layer5']),biases['layer5'])\n",
    "    return logits"
   ]
  },
  {
   "cell_type": "code",
   "execution_count": null,
   "metadata": {
    "collapsed": true
   },
   "outputs": [],
   "source": [
    "# Define placeholders\n",
    "x = tf.placeholder(tf.float32, (None, 32, 32,1))\n",
    "y = tf.placeholder(tf.int32, (None))\n",
    "keep_prob=tf.placeholder(tf.float32)\n",
    "one_hot_y = tf.one_hot(y, 43)"
   ]
  },
  {
   "cell_type": "markdown",
   "metadata": {},
   "source": [
    "### Train, Validate and Test the Model"
   ]
  },
  {
   "cell_type": "markdown",
   "metadata": {},
   "source": [
    "A validation set can be used to assess how well the model is performing. A low accuracy on the training and validation\n",
    "sets imply underfitting. A high accuracy on the training set but low accuracy on the validation set implies overfitting."
   ]
  },
  {
   "cell_type": "code",
   "execution_count": null,
   "metadata": {
    "collapsed": true
   },
   "outputs": [],
   "source": [
    "### Train your model here.\n",
    "### Calculate and report the accuracy on the training and validation set.\n",
    "### Once a final model architecture is selected, \n",
    "### the accuracy on the test set should be calculated and reported as well.\n",
    "### Feel free to use as many code cells as needed.\n",
    "rate = 0.0005\n",
    "\n",
    "logits = LeNet(x)\n",
    "cross_entropy = tf.nn.softmax_cross_entropy_with_logits(labels=one_hot_y, logits=logits)\n",
    "loss_operation = tf.reduce_mean(cross_entropy)\n",
    "optimizer = tf.train.AdamOptimizer(learning_rate = rate)\n",
    "training_operation = optimizer.minimize(loss_operation)"
   ]
  },
  {
   "cell_type": "code",
   "execution_count": null,
   "metadata": {
    "collapsed": true
   },
   "outputs": [],
   "source": [
    "correct_prediction = tf.equal(tf.argmax(logits, 1), tf.argmax(one_hot_y, 1))\n",
    "accuracy_operation = tf.reduce_mean(tf.cast(correct_prediction, tf.float32))\n",
    "saver = tf.train.Saver()\n",
    "\n",
    "def evaluate(X_data, y_data):\n",
    "    num_examples = len(X_data)\n",
    "    total_accuracy = 0\n",
    "    sess = tf.get_default_session()\n",
    "    for offset in range(0, num_examples, BATCH_SIZE):\n",
    "        batch_x, batch_y = X_data[offset:offset+BATCH_SIZE], y_data[offset:offset+BATCH_SIZE]\n",
    "        accuracy = sess.run(accuracy_operation, feed_dict={x: batch_x, y: batch_y, keep_prob: 1.0})\n",
    "        total_accuracy += (accuracy * len(batch_x))\n",
    "    return total_accuracy / num_examples"
   ]
  },
  {
   "cell_type": "code",
   "execution_count": null,
   "metadata": {
    "scrolled": true
   },
   "outputs": [],
   "source": [
    "import datetime as dt\n",
    "with tf.Session() as sess:\n",
    "    sess.run(tf.global_variables_initializer())\n",
    "    num_examples = len(X_train)\n",
    "    \n",
    "    print(\"Training...\")\n",
    "    print()\n",
    "    \n",
    "    n1=dt.datetime.now()\n",
    "\n",
    "\n",
    "    for i in range(EPOCHS):\n",
    "        n3=dt.datetime.now()\n",
    "        X_train, y_train = shuffle(X_train, y_train)\n",
    "        for offset in range(0, num_examples, BATCH_SIZE):\n",
    "            end = offset + BATCH_SIZE\n",
    "            batch_x, batch_y = X_train[offset:end], y_train[offset:end]\n",
    "            sess.run(training_operation, feed_dict={x: batch_x, y: batch_y, keep_prob: 0.6})\n",
    "            \n",
    "        validation_accuracy = evaluate(X_valid, y_valid)\n",
    "        print(\"EPOCH {} ...\".format(i+1))\n",
    "        print(\"Validation Accuracy = {:.3f}\".format(validation_accuracy))\n",
    "        n4=dt.datetime.now()\n",
    "        print(\"Elapsed time for EPOCH={} seconds\".format((n4-n3).seconds))\n",
    "        print()\n",
    "    n2=dt.datetime.now()\n",
    "    print(\"Elapsed time={} seconds\".format((n2-n1).seconds))\n",
    "    training_accuracy=evaluate(X_train, y_train)\n",
    "    print(\"Training Accuracy = {:.3f}\".format(training_accuracy))\n",
    "    saver.save(sess, './lenet')\n",
    "    print(\"Model saved\")"
   ]
  },
  {
   "cell_type": "code",
   "execution_count": null,
   "metadata": {},
   "outputs": [],
   "source": [
    "with tf.Session() as sess:\n",
    "    saver.restore(sess, tf.train.latest_checkpoint('.'))\n",
    "\n",
    "    test_accuracy = evaluate(X_test, y_test)\n",
    "    print(\"Test Accuracy = {:.3f}\".format(test_accuracy))"
   ]
  },
  {
   "cell_type": "markdown",
   "metadata": {},
   "source": [
    "---\n",
    "\n",
    "## Step 3: Test a Model on New Images\n",
    "\n",
    "To give yourself more insight into how your model is working, download at least five pictures of German traffic signs from the web and use your model to predict the traffic sign type.\n",
    "\n",
    "You may find `signnames.csv` useful as it contains mappings from the class id (integer) to the actual sign name."
   ]
  },
  {
   "cell_type": "markdown",
   "metadata": {},
   "source": [
    "### Load and Output the Images"
   ]
  },
  {
   "cell_type": "code",
   "execution_count": null,
   "metadata": {
    "collapsed": true
   },
   "outputs": [],
   "source": [
    "### Load the images and plot them here.\n",
    "### Feel free to use as many code cells as needed.\n",
    "import os\n",
    "import numpy as np\n",
    "import csv\n",
    "reader = csv.DictReader(open('signlabels.csv'))\n",
    "newdatalabels = {}\n",
    "for row in reader:\n",
    "    newdatalabels[row['FileName']]=row['Label']\n",
    "    \n",
    "X_new = list()\n",
    "y_new = np.array([], dtype=np.int)\n",
    "imagedir = './downloadedgermansigns'\n",
    "for imagePath in os.listdir(imagedir):\n",
    "    if imagePath.find(\".jpg\") != -1: \n",
    "        image = cv2.imread(os.path.join(imagedir, imagePath))\n",
    "        image = cv2.cvtColor(image, cv2.COLOR_BGR2RGB)\n",
    "        fileparts = imagePath.split('.')\n",
    "        filename=fileparts[0]\n",
    "        image = cv2.resize(image, (32, 32),interpolation = cv2.INTER_AREA)\n",
    "        X_new.append(image)\n",
    "        y_new=np.append(y_new,newdatalabels[filename])"
   ]
  },
  {
   "cell_type": "code",
   "execution_count": null,
   "metadata": {},
   "outputs": [],
   "source": [
    "import matplotlib.pyplot as plt\n",
    "# Visualizations will be shown in the notebook.\n",
    "%matplotlib inline\n",
    "    \n",
    "X_new_processed = preprocessimages(np.asarray(X_new))\n",
    "\n",
    "num_new_images=len(X_new_processed)\n",
    "fig = plt.figure(figsize=(8,16))\n",
    "for i in range(num_new_images):\n",
    "    orig_img=X_new[i];\n",
    "    processed_img=X_new_processed[i]\n",
    "    ax = fig.add_subplot(num_new_images,2,2*i+1) \n",
    "    ax.imshow(orig_img)\n",
    "    ax.set_title(\"Label: {}\".format(y_new[i]))\n",
    "    ax = fig.add_subplot(num_new_images,2,2*i+2) \n",
    "    ax.imshow(processed_img.squeeze(),cmap=\"gray\")\n",
    "    ax.set_title(\"Label: {}\".format(y_new[i]))\n",
    "plt.tight_layout()"
   ]
  },
  {
   "cell_type": "markdown",
   "metadata": {},
   "source": [
    "### Predict the Sign Type for Each Image"
   ]
  },
  {
   "cell_type": "code",
   "execution_count": null,
   "metadata": {},
   "outputs": [],
   "source": [
    "### Run the predictions here and use the model to output the prediction for each image.\n",
    "### Make sure to pre-process the images with the same pre-processing pipeline used earlier.\n",
    "### Feel free to use as many code cells as needed.\n",
    "with tf.Session() as sess:\n",
    "    saver.restore(sess, tf.train.latest_checkpoint('.'))\n",
    "    n5=dt.datetime.now()\n",
    "    test_accuracy = evaluate(X_new_processed, y_new)\n",
    "    n6=dt.datetime.now()\n",
    "    print(\"Elapsed time={} seconds\".format((n6-n5).seconds))\n",
    "    "
   ]
  },
  {
   "cell_type": "markdown",
   "metadata": {},
   "source": [
    "### Analyze Performance"
   ]
  },
  {
   "cell_type": "code",
   "execution_count": null,
   "metadata": {},
   "outputs": [],
   "source": [
    "### Calculate the accuracy for these 5 new images. \n",
    "### For example, if the model predicted 1 out of 5 signs correctly, it's 20% accurate on these new images.\n",
    "print(\"Test Accuracy = {:.3f}\".format(test_accuracy))"
   ]
  },
  {
   "cell_type": "markdown",
   "metadata": {},
   "source": [
    "### Output Top 5 Softmax Probabilities For Each Image Found on the Web"
   ]
  },
  {
   "cell_type": "markdown",
   "metadata": {},
   "source": [
    "For each of the new images, print out the model's softmax probabilities to show the **certainty** of the model's predictions (limit the output to the top 5 probabilities for each image). [`tf.nn.top_k`](https://www.tensorflow.org/versions/r0.12/api_docs/python/nn.html#top_k) could prove helpful here. \n",
    "\n",
    "The example below demonstrates how tf.nn.top_k can be used to find the top k predictions for each image.\n",
    "\n",
    "`tf.nn.top_k` will return the values and indices (class ids) of the top k predictions. So if k=3, for each sign, it'll return the 3 largest probabilities (out of a possible 43) and the correspoding class ids.\n",
    "\n",
    "Take this numpy array as an example. The values in the array represent predictions. The array contains softmax probabilities for five candidate images with six possible classes. `tk.nn.top_k` is used to choose the three classes with the highest probability:\n",
    "\n",
    "```\n",
    "# (5, 6) array\n",
    "a = np.array([[ 0.24879643,  0.07032244,  0.12641572,  0.34763842,  0.07893497,\n",
    "         0.12789202],\n",
    "       [ 0.28086119,  0.27569815,  0.08594638,  0.0178669 ,  0.18063401,\n",
    "         0.15899337],\n",
    "       [ 0.26076848,  0.23664738,  0.08020603,  0.07001922,  0.1134371 ,\n",
    "         0.23892179],\n",
    "       [ 0.11943333,  0.29198961,  0.02605103,  0.26234032,  0.1351348 ,\n",
    "         0.16505091],\n",
    "       [ 0.09561176,  0.34396535,  0.0643941 ,  0.16240774,  0.24206137,\n",
    "         0.09155967]])\n",
    "```\n",
    "\n",
    "Running it through `sess.run(tf.nn.top_k(tf.constant(a), k=3))` produces:\n",
    "\n",
    "```\n",
    "TopKV2(values=array([[ 0.34763842,  0.24879643,  0.12789202],\n",
    "       [ 0.28086119,  0.27569815,  0.18063401],\n",
    "       [ 0.26076848,  0.23892179,  0.23664738],\n",
    "       [ 0.29198961,  0.26234032,  0.16505091],\n",
    "       [ 0.34396535,  0.24206137,  0.16240774]]), indices=array([[3, 0, 5],\n",
    "       [0, 1, 4],\n",
    "       [0, 5, 1],\n",
    "       [1, 3, 5],\n",
    "       [1, 4, 3]], dtype=int32))\n",
    "```\n",
    "\n",
    "Looking just at the first row we get `[ 0.34763842,  0.24879643,  0.12789202]`, you can confirm these are the 3 largest probabilities in `a`. You'll also notice `[3, 0, 5]` are the corresponding indices."
   ]
  },
  {
   "cell_type": "code",
   "execution_count": null,
   "metadata": {},
   "outputs": [],
   "source": [
    "### Print out the top five softmax probabilities for the predictions on the German traffic sign images found on the web. \n",
    "### Feel free to use as many code cells as needed.\n",
    "import matplotlib.pyplot as plt\n",
    "# feed_dict_new = feed_dict=\n",
    "with tf.Session() as sess:\n",
    "    saver.restore(sess, tf.train.latest_checkpoint('.'))\n",
    "    top_5_prob = sess.run(tf.nn.top_k(tf.nn.softmax(logits),5),feed_dict = {x: X_new_processed, y: y_new, keep_prob: 1.0})\n",
    "\n",
    "fig = plt.figure(figsize=(8,24))\n",
    "for i in range(num_new_images):\n",
    "    plt = fig.add_subplot(num_new_images,2,2*i+1) \n",
    "    plt.axis('off')\n",
    "    plt.imshow(X_new_processed[i].squeeze(),cmap='gray')\n",
    "    \n",
    "    plt=fig.add_subplot(num_new_images,2,2*i+2)\n",
    "    plt.barh(5-np.arange(5),top_5_prob[0][i])\n",
    "    for i_lbl in range(5): \n",
    "      plt.text(top_5_prob[0][i][0]+.1,5-i_lbl-.10,sign_names[top_5_prob[1][i][i_lbl]])\n",
    "print(top_5_prob[0][0])\n",
    "print(top_5_prob[1][0])\n",
    "fig.savefig('./visualizations/top5probs.jpg')"
   ]
  },
  {
   "cell_type": "markdown",
   "metadata": {},
   "source": [
    "### Project Writeup\n",
    "\n",
    "Once you have completed the code implementation, document your results in a project writeup using this [template](https://github.com/udacity/CarND-Traffic-Sign-Classifier-Project/blob/master/writeup_template.md) as a guide. The writeup can be in a markdown or pdf file. "
   ]
  },
  {
   "cell_type": "markdown",
   "metadata": {},
   "source": [
    "> **Note**: Once you have completed all of the code implementations and successfully answered each question above, you may finalize your work by exporting the iPython Notebook as an HTML document. You can do this by using the menu above and navigating to  \\n\",\n",
    "    \"**File -> Download as -> HTML (.html)**. Include the finished document along with this notebook as your submission."
   ]
  },
  {
   "cell_type": "markdown",
   "metadata": {},
   "source": [
    "---\n",
    "\n",
    "## Step 4 (Optional): Visualize the Neural Network's State with Test Images\n",
    "\n",
    " This Section is not required to complete but acts as an additional excersise for understaning the output of a neural network's weights. While neural networks can be a great learning device they are often referred to as a black box. We can understand what the weights of a neural network look like better by plotting their feature maps. After successfully training your neural network you can see what it's feature maps look like by plotting the output of the network's weight layers in response to a test stimuli image. From these plotted feature maps, it's possible to see what characteristics of an image the network finds interesting. For a sign, maybe the inner network feature maps react with high activation to the sign's boundary outline or to the contrast in the sign's painted symbol.\n",
    "\n",
    " Provided for you below is the function code that allows you to get the visualization output of any tensorflow weight layer you want. The inputs to the function should be a stimuli image, one used during training or a new one you provided, and then the tensorflow variable name that represents the layer's state during the training process, for instance if you wanted to see what the [LeNet lab's](https://classroom.udacity.com/nanodegrees/nd013/parts/fbf77062-5703-404e-b60c-95b78b2f3f9e/modules/6df7ae49-c61c-4bb2-a23e-6527e69209ec/lessons/601ae704-1035-4287-8b11-e2c2716217ad/concepts/d4aca031-508f-4e0b-b493-e7b706120f81) feature maps looked like for it's second convolutional layer you could enter conv2 as the tf_activation variable.\n",
    "\n",
    "For an example of what feature map outputs look like, check out NVIDIA's results in their paper [End-to-End Deep Learning for Self-Driving Cars](https://devblogs.nvidia.com/parallelforall/deep-learning-self-driving-cars/) in the section Visualization of internal CNN State. NVIDIA was able to show that their network's inner weights had high activations to road boundary lines by comparing feature maps from an image with a clear path to one without. Try experimenting with a similar test to show that your trained network's weights are looking for interesting features, whether it's looking at differences in feature maps from images with or without a sign, or even what feature maps look like in a trained network vs a completely untrained one on the same sign image.\n",
    "\n",
    "<figure>\n",
    " <img src=\"visualize_cnn.png\" width=\"380\" alt=\"Combined Image\" />\n",
    " <figcaption>\n",
    " <p></p> \n",
    " <p style=\"text-align: center;\"> Your output should look something like this (above)</p> \n",
    " </figcaption>\n",
    "</figure>\n",
    " <p></p> \n"
   ]
  },
  {
   "cell_type": "code",
   "execution_count": null,
   "metadata": {
    "collapsed": true
   },
   "outputs": [],
   "source": [
    "### Visualize your network's feature maps here.\n",
    "### Feel free to use as many code cells as needed.\n",
    "\n",
    "# image_input: the test image being fed into the network to produce the feature maps\n",
    "# tf_activation: should be a tf variable name used during your training procedure that represents the calculated state of a specific weight layer\n",
    "# activation_min/max: can be used to view the activation contrast in more detail, by default matplot sets min and max to the actual min and max values of the output\n",
    "# plt_num: used to plot out multiple different weight feature map sets on the same block, just extend the plt number for each new feature map entry\n",
    "\n",
    "def outputFeatureMap(image_input, tf_activation, activation_min=-1, activation_max=-1 ,plt_num=1):\n",
    "    # Here make sure to preprocess your image_input in a way your network expects\n",
    "    # with size, normalization, ect if needed\n",
    "    # image_input =\n",
    "    # Note: x should be the same name as your network's tensorflow data placeholder variable\n",
    "    # If you get an error tf_activation is not defined it may be having trouble accessing the variable from inside a function\n",
    "    activation = tf_activation.eval(session=sess,feed_dict={x : image_input})\n",
    "    featuremaps = activation.shape[3]\n",
    "    plt.figure(plt_num, figsize=(15,15))\n",
    "    for featuremap in range(featuremaps):\n",
    "        plt.subplot(6,8, featuremap+1) # sets the number of feature maps to show on each row and column\n",
    "        plt.title('FeatureMap ' + str(featuremap)) # displays the feature map number\n",
    "        if activation_min != -1 & activation_max != -1:\n",
    "            plt.imshow(activation[0,:,:, featuremap], interpolation=\"nearest\", vmin =activation_min, vmax=activation_max, cmap=\"gray\")\n",
    "        elif activation_max != -1:\n",
    "            plt.imshow(activation[0,:,:, featuremap], interpolation=\"nearest\", vmax=activation_max, cmap=\"gray\")\n",
    "        elif activation_min !=-1:\n",
    "            plt.imshow(activation[0,:,:, featuremap], interpolation=\"nearest\", vmin=activation_min, cmap=\"gray\")\n",
    "        else:\n",
    "            plt.imshow(activation[0,:,:, featuremap], interpolation=\"nearest\", cmap=\"gray\")"
   ]
  }
 ],
 "metadata": {
  "anaconda-cloud": {},
  "kernelspec": {
   "display_name": "Python 3",
   "language": "python",
   "name": "python3"
  },
  "language_info": {
   "codemirror_mode": {
    "name": "ipython",
    "version": 3
   },
   "file_extension": ".py",
   "mimetype": "text/x-python",
   "name": "python",
   "nbconvert_exporter": "python",
   "pygments_lexer": "ipython3",
   "version": "3.5.2"
  },
  "widgets": {
   "state": {},
   "version": "1.1.2"
  }
 },
 "nbformat": 4,
 "nbformat_minor": 1
}
